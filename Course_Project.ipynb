{
  "nbformat": 4,
  "nbformat_minor": 0,
  "metadata": {
    "colab": {
      "name": "Course_Project.ipynb",
      "provenance": [],
      "collapsed_sections": []
    },
    "kernelspec": {
      "name": "python3",
      "display_name": "Python 3"
    },
    "language_info": {
      "name": "python"
    }
  },
  "cells": [
    {
      "cell_type": "markdown",
      "metadata": {
        "id": "lbYuocO2NqAz"
      },
      "source": [
        "#INSTRUCTIONS TO RUN THE CODE\n",
        "1. Download the data set from this link and save it in the google drive.\n",
        "(https://www.kaggle.com/tareqkhanemu/snoring)\n",
        "2. Mount Google Drive and run the subsequent data preparation cells and save the .json files thus formed in the desired paths.\n",
        "3. Load the .json files as and when required and execute the rest of the code.\n",
        "4. The .json files have been uploaded into the google drive and the links are   provided below:\n",
        "\n",
        "*   MFCC DATA: https://drive.google.com/file/d/10qFQ-WEH9rg6p9LFZxIOiLqSKayxvNbJ/view?usp=sharing\n",
        "*   MEL SPECTROGRAM: https://drive.google.com/file/d/1JoqyGrEL7F0ah7A8w2BNJlC17J3oLDDQ/view?usp=sharing\n",
        "\n",
        "This is being provided because step 2 is time consuming.\n",
        "5. Follow the comments for additional info."
      ]
    },
    {
      "cell_type": "markdown",
      "metadata": {
        "id": "NQRqhEZJ9zzM"
      },
      "source": [
        "GOOGLE COLAB IMPORT"
      ]
    },
    {
      "cell_type": "code",
      "metadata": {
        "id": "GtmeQRRw5-Z1",
        "colab": {
          "base_uri": "https://localhost:8080/"
        },
        "outputId": "75e0f47c-b7e8-46b0-f53a-2a0050d3c38f"
      },
      "source": [
        "from google.colab import drive\n",
        "drive.mount('/content/drive', force_remount=True)"
      ],
      "execution_count": null,
      "outputs": [
        {
          "output_type": "stream",
          "name": "stdout",
          "text": [
            "Mounted at /content/drive\n"
          ]
        }
      ]
    },
    {
      "cell_type": "markdown",
      "metadata": {
        "id": "-Y06ixuKXgSP"
      },
      "source": [
        "###DATA PREPARATION MFCC\n",
        "Run this cell to create MFCC .json file (step 2)"
      ]
    },
    {
      "cell_type": "code",
      "metadata": {
        "id": "nrN-8uqBXaaH",
        "colab": {
          "base_uri": "https://localhost:8080/"
        },
        "outputId": "21ce9f0d-c49f-47e9-c2ec-13334bd523ba"
      },
      "source": [
        "#The following code takes the dataset and produces a json file containing the Mel Frequency Cepstral Coefficient(MFCC)\n",
        "#representstion of each audio file along with its label\n",
        "import json\n",
        "import os\n",
        "import math\n",
        "import librosa\n",
        "\n",
        "DATASET_PATH = \"/content/drive/MyDrive/PROJECT/T_Khan-Snoring_Dataset\"\n",
        "JSON_PATH = \"/content/drive/MyDrive/PROJECT/T_Khan-Snoring_Dataset/data_MFCC_PAPER.json\"\n",
        "\n",
        "\n",
        "def save_mfcc(dataset_path, json_path, num_mfcc=32, n_fft=512):\n",
        "    \"\"\"Extracts MFCCs from snoring dataset and saves them into a json file along labels(snoring:1,non-snoring:0)\n",
        "        :param dataset_path (str): Path to dataset\n",
        "        :param json_path (str): Path to json file used to save MFCCs\n",
        "        :param num_mfcc (int): Number of coefficients to extract\n",
        "        :param n_fft (int): Interval we consider to apply FFT. Measured in # of samples\n",
        "        \"\"\"\n",
        "\n",
        "    # dictionary to store mapping, labels, and MFCCs\n",
        "    data = {\n",
        "        \"mapping\": [],\n",
        "        \"labels\": [],\n",
        "        \"mfcc\": []\n",
        "    }\n",
        "\n",
        "    # loop through all sub-folders\n",
        "    for i, (dirpath, dirnames, filenames) in enumerate(os.walk(dataset_path)):\n",
        "\n",
        "        # ensure we're processing a genre sub-folder level\n",
        "        if dirpath is not dataset_path:\n",
        "\n",
        "            # save label (i.e., sub-folder name) in the mapping\n",
        "            semantic_label = dirpath.split(\"/\")[-1]\n",
        "            data[\"mapping\"].append(semantic_label)\n",
        "            print(\"\\nProcessing: {}\".format(semantic_label))\n",
        "\n",
        "            # process all audio files in label sub-dir\n",
        "            for f in filenames:\n",
        "              # load audio file\n",
        "              file_path = os.path.join(dirpath, f)\n",
        "              signal, sample_rate = librosa.load(file_path)\n",
        "\n",
        "              # extract mfcc\n",
        "              mfcc = librosa.feature.mfcc(signal, sample_rate, n_mfcc=num_mfcc, n_fft=n_fft, hop_length = int(sample_rate/32)+1)\n",
        "              mfcc = mfcc.T\n",
        "              data[\"mfcc\"].append(mfcc.tolist())\n",
        "              data[\"labels\"].append(i-1)\n",
        "\n",
        "    # save MFCCs to json file\n",
        "    with open(json_path, \"w\") as fp:\n",
        "        json.dump(data, fp, indent=4)\n",
        "        \n",
        "        \n",
        "if __name__ == \"__main__\":\n",
        "    save_mfcc(DATASET_PATH, JSON_PATH)"
      ],
      "execution_count": null,
      "outputs": [
        {
          "output_type": "stream",
          "name": "stdout",
          "text": [
            "\n",
            "Processing: 0\n",
            "\n",
            "Processing: 1\n",
            "\n",
            "Processing: .ipynb_checkpoints\n"
          ]
        }
      ]
    },
    {
      "cell_type": "markdown",
      "metadata": {
        "id": "fVrTq8UsXubv"
      },
      "source": [
        "###DATA PREPARATION MEL SPECTOGRAM\n",
        "Run this cell to create new MEL SPECTROGRAM .json file (step 2)"
      ]
    },
    {
      "cell_type": "code",
      "metadata": {
        "id": "b7xS8Ty5XtDv"
      },
      "source": [
        "#The following code takes the dataset and produces a json file containing the Mel Spectogram\n",
        "#representstion of each audio file along with its label\n",
        "import json\n",
        "import os\n",
        "import math\n",
        "import librosa\n",
        "import librosa.display\n",
        "\n",
        "DATASET_PATH = \"/content/drive/MyDrive/PROJECT/T_Khan-Snoring_Dataset\"\n",
        "JSON_PATH = \"/content/drive/MyDrive/PROJECT/T_Khan-Snoring_Dataset/data_MEL_SPEC_final.json\"\n",
        "\n",
        "def save_MEL(dataset_path, json_path, num_mfcc=32, n_fft=512):\n",
        "    \"\"\"Extracts MFCCs from snoring dataset and saves them into a json file along labels(snoring:1,non-snoring:0)\n",
        "        :param dataset_path (str): Path to dataset\n",
        "        :param json_path (str): Path to json file used to save MFCCs\n",
        "        :param num_mfcc (int): Number of coefficients to extract\n",
        "        :param n_fft (int): Interval we consider to apply FFT. Measured in # of samples\n",
        "        \"\"\"\n",
        "\n",
        "    # dictionary to store mapping, labels, and MFCCs\n",
        "    data = {\n",
        "        \"mapping\": [],\n",
        "        \"labels\": [],\n",
        "        \"MELSPEC\": []\n",
        "    }\n",
        "    # loop through all label sub-folder\n",
        "    for i, (dirpath, dirnames, filenames) in enumerate(os.walk(dataset_path)):\n",
        "\n",
        "        # ensure we're processing a label sub-folder level\n",
        "        if dirpath is not dataset_path:\n",
        "\n",
        "            # save  label (i.e., sub-folder name) in the mapping\n",
        "            semantic_label = dirpath.split(\"/\")[-1]\n",
        "            data[\"mapping\"].append(semantic_label)\n",
        "            print(\"\\nProcessing: {}\".format(semantic_label))\n",
        "\n",
        "            # process all audio files in label sub-dir\n",
        "            for f in filenames:\n",
        "\n",
        "\t\t             # load audio file\n",
        "                file_path = os.path.join(dirpath, f)\n",
        "                signal, sample_rate = librosa.load(file_path)\n",
        "                # extract MEL SPECTOGRAM\n",
        "                   \n",
        "                sgram = librosa.stft(signal)\n",
        "                #librosa.display.specshow(sgram)\n",
        "                # use the mel-scale instead of raw frequency\n",
        "                sgram_mag, _ = librosa.magphase(sgram)\n",
        "                mel_scale_sgram = librosa.feature.melspectrogram(S=sgram_mag, sr=sample_rate)\n",
        "                # use the decibel scale to get the final Mel Spectrogram\n",
        "                mel_sgram = librosa.amplitude_to_db(mel_scale_sgram, ref=np.min)\n",
        "                data[\"MELSPEC\"].append(mel_sgram.tolist())\n",
        "                data[\"labels\"].append(i-1)\n",
        "                print(\"{}\".format(file_path))\n",
        "\n",
        "    # save MFCCs to json file\n",
        "    with open(json_path, \"w\") as fp:\n",
        "        json.dump(data, fp, indent=4)\n",
        "        \n",
        "        \n",
        "if __name__ == \"__main__\":\n",
        "    save_MEL(DATASET_PATH, JSON_PATH)"
      ],
      "execution_count": null,
      "outputs": []
    },
    {
      "cell_type": "markdown",
      "metadata": {
        "id": "4MKRfnKc91C8"
      },
      "source": [
        "#Loading the data"
      ]
    },
    {
      "cell_type": "markdown",
      "metadata": {
        "id": "ZZcwS1Lb9KPo"
      },
      "source": [
        "### SOME EDA"
      ]
    },
    {
      "cell_type": "code",
      "metadata": {
        "colab": {
          "base_uri": "https://localhost:8080/",
          "height": 333
        },
        "id": "c0Qb5-hiyg98",
        "outputId": "7232d0cf-333b-4cd9-c82f-4790e6137d6f"
      },
      "source": [
        "import json\n",
        "import os\n",
        "import math\n",
        "import librosa\n",
        "import librosa.display\n",
        "import matplotlib.pyplot as plt\n",
        "\n",
        "file_0 = \"/content/drive/MyDrive/PROJECT/T_Khan-Snoring_Dataset/0/0_0.wav\"\n",
        "file_1 = \"/content/drive/MyDrive/PROJECT/T_Khan-Snoring_Dataset/0/1_0.wav\"\n",
        "#waveform\n",
        "plt.figure(figsize=(20, 4))\n",
        "ax1 = plt.subplot(1,2,1)\n",
        "signal, sr = librosa.load(file_0) \n",
        "librosa.display.waveplot(signal, sr=sr)\n",
        "ax1.set(title='Waveform OF A NON-SNORE AUDIO SAMPLE OF 1-SEC')\n",
        "plt.xlabel(\"Time\")\n",
        "plt.ylabel(\"Amplitude\")\n",
        "\n",
        "ax2 = plt.subplot(1,2,2)\n",
        "signal, sr = librosa.load(file_0) \n",
        "librosa.display.waveplot(signal, sr=sr)\n",
        "ax2.set(title='Waveform OF A SNORE AUDIO SAMPLE OF 1-SEC')\n",
        "plt.xlabel(\"Time\")\n",
        "plt.ylabel(\"Amplitude\")\n"
      ],
      "execution_count": null,
      "outputs": [
        {
          "output_type": "execute_result",
          "data": {
            "text/plain": [
              "Text(0, 0.5, 'Amplitude')"
            ]
          },
          "metadata": {},
          "execution_count": 5
        },
        {
          "output_type": "display_data",
          "data": {
            "image/png": "[encoded data removed]",
            "text/plain": [
              "<Figure size 1440x288 with 2 Axes>"
            ]
          },
          "metadata": {
            "needs_background": "light"
          }
        }
      ]
    },
    {
      "cell_type": "code",
      "metadata": {
        "colab": {
          "base_uri": "https://localhost:8080/"
        },
        "id": "jBsblNYn3aD4",
        "outputId": "09899eb4-919d-404a-eb60-fe152f502daf"
      },
      "source": [
        " PATH = \"/content/drive/MyDrive/PROJECT/T_Khan-Snoring_Dataset/data_MFCC_PAPER.json\"\n",
        " PATH1 = \"/content/drive/MyDrive/PROJECT/T_Khan-Snoring_Dataset/data_MEL_SPEC_final.json\"\n",
        " def load_data(PATH):\n",
        "   \"\"\"Loads training dataset from json file.\n",
        "   :param Path (str): Path to json file containing data\n",
        "   :return X (ndarray): Inputs\n",
        "   :return y (ndarray): Targets\n",
        "   \"\"\"\n",
        "   with open(PATH, \"r\") as fp:\n",
        "     data = json.load(fp)\n",
        "\n",
        "   # convert lists to numpy arrays\n",
        "   if \"mfcc\" in data:\n",
        "     X = np.array(data[\"mfcc\"])\n",
        "   else:\n",
        "     X = np.array(data[\"MELSPEC\"])\n",
        "    \n",
        "   \n",
        "   y = np.array(data[\"labels\"])\n",
        "   #X = np.expand_dims(X, axis=1)\n",
        "   #y = np.expand_dims(y,axis=1)\n",
        "   #X = (X - np.mean(X))/np.amax(X)\n",
        "   print(\"Data succesfully loaded!\")\n",
        "   return  X, y\n",
        "\n",
        " # load data\n",
        " X_1,y_1 = load_data(PATH) #MFCC\n",
        " X_2,y_2 = load_data(PATH1) #MELSPEC"
      ],
      "execution_count": null,
      "outputs": [
        {
          "output_type": "stream",
          "name": "stdout",
          "text": [
            "Data succesfully loaded!\n",
            "Data succesfully loaded!\n"
          ]
        }
      ]
    },
    {
      "cell_type": "code",
      "metadata": {
        "colab": {
          "base_uri": "https://localhost:8080/",
          "height": 312
        },
        "id": "KeBvZE9737bd",
        "outputId": "725deaae-0c64-42b5-8a7c-8f387bc65002"
      },
      "source": [
        "import librosa, librosa.display\n",
        "import matplotlib.pyplot as plt\n",
        "import numpy as np\n",
        "plt.figure(figsize=(20, 4))\n",
        "ax1 = plt.subplot(1,2,1)\n",
        "MFCC = X_1[0] # THE DATA IS ARRANGED SUCH THAT Indices 0-499 are snore samples\n",
        "IMG1 = librosa.display.specshow(MFCC,  x_axis='time', y_axis='mel',ax=ax1)\n",
        "ax1.set(title='MFCC OF A NON-SNORE AUDIO SAMPLE OF 1-SEC')\n",
        "plt.colorbar(IMG1,format='%+2.0f dB')\n",
        "ax2 = plt.subplot(1,2,2)\n",
        "msg = X_2[0]\n",
        "IMG2 = librosa.display.specshow(msg,  x_axis='time', y_axis='mel',ax=ax2)\n",
        "ax2.set(title='MEL SPECTROGRAM OF A NON-SNORE AUDIO SAMPLE OF 1-SEC')\n",
        "plt.colorbar(IMG2,format='%+2.0f dB')"
      ],
      "execution_count": null,
      "outputs": [
        {
          "output_type": "execute_result",
          "data": {
            "text/plain": [
              "<matplotlib.colorbar.Colorbar at 0x7f9b944b7bd0>"
            ]
          },
          "metadata": {},
          "execution_count": 210
        },
        {
          "output_type": "display_data",
          "data": {
            "image/png": "[encoded data removed]",
            "text/plain": [
              "<Figure size 1440x288 with 4 Axes>"
            ]
          },
          "metadata": {
            "needs_background": "light"
          }
        }
      ]
    },
    {
      "cell_type": "code",
      "metadata": {
        "colab": {
          "base_uri": "https://localhost:8080/",
          "height": 312
        },
        "id": "WNtvTNDQ59Cl",
        "outputId": "0a8cf3fd-dd18-47be-cc95-0f7195dea37d"
      },
      "source": [
        "plt.figure(figsize=(20, 4))\n",
        "ax1 = plt.subplot(1,2,1)\n",
        "MFCC = X_1[500]\n",
        "IMG1 = librosa.display.specshow(MFCC,  x_axis='time', y_axis='mel',ax=ax1)\n",
        "ax1.set(title='MFCC OF A SNORE AUDIO SAMPLE OF 1-SEC')# THE DATA IS ARRANGED SUCH THAT Indices 500-999 are snore samples\n",
        "plt.colorbar(IMG1,format='%+2.0f dB')\n",
        "ax2 = plt.subplot(1,2,2)\n",
        "msg = X_2[500]\n",
        "IMG2 = librosa.display.specshow(msg,  x_axis='time', y_axis='mel',ax=ax2)\n",
        "ax2.set(title='MEL SPECTROGRAM OF A SNORE AUDIO SAMPLE OF 1-SEC')\n",
        "plt.colorbar(IMG2,format='%+2.0f dB')"
      ],
      "execution_count": null,
      "outputs": [
        {
          "output_type": "execute_result",
          "data": {
            "text/plain": [
              "<matplotlib.colorbar.Colorbar at 0x7f9b943308d0>"
            ]
          },
          "metadata": {},
          "execution_count": 211
        },
        {
          "output_type": "display_data",
          "data": {
            "image/png": "[encoded data removed]",
            "text/plain": [
              "<Figure size 1440x288 with 4 Axes>"
            ]
          },
          "metadata": {
            "needs_background": "light"
          }
        }
      ]
    },
    {
      "cell_type": "code",
      "metadata": {
        "id": "WetlC5bTHxMs"
      },
      "source": [
        "#Run the following code to load the data and split it into test,train and validation\n",
        "import json\n",
        "import numpy as np\n",
        "from sklearn.model_selection import train_test_split\n",
        "import tensorflow.keras as keras\n",
        "import math\n",
        "\n",
        "def DATA_PREP_LOAD(PATH,batch_size):\n",
        "   \"\"\"Loads training dataset from json file.\n",
        "   :param PATH (str): Path to json file containing data\n",
        "   :param batch_size(int): Desired batch size for training on data\n",
        "   :return train_loader, valid_loader, test_loader: Dataloaders for training validation and testing respectively\n",
        "   \"\"\"\n",
        " \n",
        " def load_data(PATH):\n",
        "   \"\"\"Loads training dataset from json file.\n",
        "   :param Path (str): Path to json file containing data\n",
        "   :return X (ndarray): Inputs\n",
        "   :return y (ndarray): Targets\n",
        "   \"\"\"\n",
        "   with open(PATH, \"r\") as fp:\n",
        "     data = json.load(fp)\n",
        "\n",
        "   # convert lists to numpy arrays\n",
        "   if \"mfcc\" in data:\n",
        "     X = np.array(data[\"mfcc\"])\n",
        "   else:\n",
        "     X = np.array(data[\"MELSPEC\"])\n",
        "    \n",
        "   \n",
        "   y = np.array(data[\"labels\"])\n",
        "   X = np.expand_dims(X, axis=1)\n",
        "   y = np.expand_dims(y,axis=1)\n",
        "   #X = (X - np.mean(X))/np.amax(X)\n",
        "   print(\"Data succesfully loaded!\")\n",
        "   return  X, y\n",
        "\n",
        " # load data\n",
        " X,y = load_data(PATH)\n",
        "\n",
        " # create train/test split\n",
        " X_train, X_test, y_train, y_test = train_test_split(X, y, test_size=0.2)\n",
        " X_train, X_val, y_train, y_val = train_test_split(X_train, y_train, test_size = 0.2)\n",
        " \n",
        " class SnoreDataset_train(Dataset):\n",
        "   def __init__(self):\n",
        "    \n",
        "     self.n_samples = X_train.shape[0]\n",
        "    \n",
        "     self.x_data = torch.Tensor(X_train) # size [n_samples, n_features]\n",
        "     self.y_data = torch.Tensor(y_train) # size [n_samples, 1]\n",
        "\n",
        "     # support indexing such that dataset[i] can be used to get i-th sample\n",
        "   \n",
        "   def __getitem__(self, index):\n",
        "     return self.x_data[index], self.y_data[index]\n",
        "     \n",
        "   # we can call len(dataset) to return the size\n",
        "   def __len__(self):\n",
        "     return self.n_samples\n",
        "\n",
        " class SnoreDataset_val(Dataset):\n",
        "   def __init__(self):\n",
        "     self.n_samples = X_val.shape[0]\n",
        "     self.x_data = torch.Tensor(X_val) # size [n_samples, n_features]\n",
        "     self.y_data = torch.Tensor(y_val) # size [n_samples, 1]\n",
        "\n",
        "    # support indexing such that dataset[i] can be used to get i-th sample\n",
        "   def __getitem__(self, index):\n",
        "     return self.x_data[index], self.y_data[index]\n",
        "\n",
        "    # we can call len(dataset) to return the size\n",
        "   def __len__(self):\n",
        "     return self.n_samples\n",
        "\n",
        " class SnoreDataset_test(Dataset):\n",
        "   \n",
        "   def __init__(self):\n",
        "     # Initialize data, download, etc.\n",
        "     self.n_samples = X_test.shape[0]\n",
        "  \n",
        "     self.x_data = torch.Tensor(X_test) # size [n_samples, n_features]\n",
        "     self.y_data = torch.Tensor(y_test) # size [n_samples, 1]\n",
        "\n",
        "    # support indexing such that dataset[i] can be used to get i-th sample\n",
        "   def __getitem__(self, index):\n",
        "     return self.x_data[index], self.y_data[index]\n",
        "\n",
        "   # we can call len(dataset) to return the size\n",
        "   def __len__(self):\n",
        "     return self.n_samples\n",
        "\n",
        "\n",
        "\n",
        "  # create dataset\n",
        " dataset_train = SnoreDataset_train()\n",
        " dataset_val = SnoreDataset_val()\n",
        " dataset_test = SnoreDataset_test()\n",
        "\n",
        " # Load whole dataset with DataLoader\n",
        " train_loader = DataLoader(dataset=dataset_train ,\n",
        "                            batch_size=batch_size,\n",
        "                            shuffle=True,\n",
        "                            num_workers=2)\n",
        " valid_loader = DataLoader(dataset=dataset_val ,\n",
        "                            batch_size=batch_size,\n",
        "                            shuffle=True,\n",
        "                            num_workers=2)\n",
        " test_loader = DataLoader(dataset=dataset_test ,\n",
        "                            batch_size=batch_size,\n",
        "                            shuffle=True,\n",
        "                            num_workers=2)\n",
        " \n",
        " return train_loader, valid_loader, test_loader"
      ],
      "execution_count": null,
      "outputs": []
    },
    {
      "cell_type": "markdown",
      "metadata": {
        "id": "lIJfSLPu-AJU"
      },
      "source": [
        "IMPORTS FOR MAKING PYTORCH MODEL"
      ]
    },
    {
      "cell_type": "code",
      "metadata": {
        "id": "TdQet0qOaBNx"
      },
      "source": [
        "import torch\n",
        "import torch.nn as nn\n",
        "import torchvision\n",
        "import torchvision.transforms as transforms\n",
        "from torch.utils.data import Dataset, DataLoader\n",
        "import matplotlib.pyplot as plt\n",
        "import numpy as np\n",
        "from torch.autograd import Variable\n",
        "from torch.nn.utils.rnn import pack_padded_sequence\n",
        "#config\n",
        "device = torch.device(\"cuda:0\" if torch.cuda.is_available() else \"cpu\")"
      ],
      "execution_count": null,
      "outputs": []
    },
    {
      "cell_type": "markdown",
      "metadata": {
        "id": "j5OYNc65sFJm"
      },
      "source": [
        "TRAINING LOOP"
      ]
    },
    {
      "cell_type": "code",
      "metadata": {
        "id": "pLgOKlWbOIyk"
      },
      "source": [
        "def training_loop(model,PATH, num_epochs = 20, learning_rate = 0.001, batch_size = 20):\n",
        "   \"\"\"Trains the NN models\n",
        "   :param model: Object of the particular NN architecture class\n",
        "   :PATH: Path to load the data\n",
        "   :num_epochs(int): Number of epochs \n",
        "   learning_rate(float): Learning rate for training\n",
        "   :param batch_size(int): Desired batch size for training on data\n",
        "   :return test_loss, validation_loss and test_loader\n",
        "   \"\"\"\n",
        "  train_loader, valid_loader, test_loader = DATA_PREP_LOAD(PATH,batch_size)\n",
        "  import time\n",
        "  # calculate steps per epoch for training and validation set\n",
        "  trainSteps = len(train_loader.dataset) // batch_size\n",
        "  valSteps = len(valid_loader.dataset) // batch_size\n",
        "  #Loss and optimize\n",
        "  criterion = nn.functional.binary_cross_entropy\n",
        "  optimizer = torch.optim.Adam(model.parameters(), lr=learning_rate)\n",
        "  # initialize a dictionary to store training history\n",
        "  H = {\n",
        "      \"train_loss\": [],\n",
        " \n",
        "       \"val_loss\": [],\n",
        "\n",
        "       }\n",
        "  # measure how long training is going to take\n",
        "  print(\"[INFO] training the network...\")\n",
        "  startTime = time.time()\n",
        "\n",
        "\n",
        "  # loop over our epochs\n",
        "  for e in range(0, num_epochs):\n",
        "    # set the model in training mode\n",
        "    model.train()\n",
        "\t  # initialize the total training and validation loss\n",
        "    totalTrainLoss = 0\n",
        "    totalValLoss = 0\n",
        " \n",
        "    # loop over the training set\n",
        "    for i,(X, y) in enumerate(train_loader):\n",
        "      # send the input to the device\n",
        "      X = X.to(device) \n",
        "      y = y.to(device)\n",
        "      # perform a forward pass and calculate the training loss\n",
        "      pred = model(X)\n",
        "      loss = criterion(pred, y)\n",
        "\t\t  # zero out the gradients, perform the backpropagation step,\n",
        "\t\t  # and update the weights\n",
        "      optimizer.zero_grad()\n",
        "      loss.backward()\n",
        "      optimizer.step()\n",
        "      # add the loss to the total training loss so far and\n",
        "      # calculate the number of correct predictions\n",
        "      totalTrainLoss += loss\n",
        "  \n",
        "    #VALIDATION\n",
        "  \n",
        "    with torch.no_grad():\n",
        "      # set the model in evaluation mode\n",
        "      model.eval()\n",
        "      # loop over the validation set\n",
        "      for (X, y) in valid_loader:\n",
        "        # send the input to the device\n",
        "        X = X.to(device) \n",
        "        y = y.to(device)\n",
        "        # make the predictions and calculate the validation loss\n",
        "        pred = model(X)\n",
        "        totalValLoss += criterion(pred, y)\n",
        "  \n",
        "\t  # calculate the average training and validation loss\n",
        "    avgTrainLoss = totalTrainLoss / trainSteps\n",
        "    avgValLoss = totalValLoss / valSteps\n",
        "\n",
        "    # update our training history\n",
        "    H[\"train_loss\"].append(avgTrainLoss.cpu().detach().numpy())\n",
        "\n",
        "    H[\"val_loss\"].append(avgValLoss.cpu().detach().numpy())\n",
        "\n",
        "    # print the model training and validation information\n",
        "    print(\"[INFO] EPOCH: {}/{}\".format(e + 1, num_epochs))\n",
        "    print(\"Train loss: {:.6f}, Val loss: {:.4f}\".format(\n",
        "        avgTrainLoss, avgValLoss))\n",
        "\n",
        "  \n",
        "\n",
        "  # finish measuring how long training took\n",
        "  endTime = time.time()\n",
        "  print(\"[INFO] total time taken to train the model: {:.2f}s\".format(endTime - startTime))\n",
        "  return H[\"train_loss\"], H[\"val_loss\"],test_loader"
      ],
      "execution_count": null,
      "outputs": []
    },
    {
      "cell_type": "code",
      "metadata": {
        "id": "LC1Ftz06ib0n"
      },
      "source": [
        "def weight_reset(m):\n",
        "  \"\"\"THIS FUNCTION RESETS THE WEIGHTS OF A TRAINED MODEL\"\"\"\n",
        "    if isinstance(m, nn.Conv2d) or isinstance(m, nn.Linear) or isinstance(m, nn.LSTM):\n",
        "        m.reset_parameters()"
      ],
      "execution_count": null,
      "outputs": []
    },
    {
      "cell_type": "markdown",
      "metadata": {
        "id": "iFqP5HyjKdPi"
      },
      "source": [
        "#BASELINE PAPER MODEL (MFCC_FEATURE)"
      ]
    },
    {
      "cell_type": "code",
      "metadata": {
        "id": "bQMfTfS5X-aY",
        "colab": {
          "base_uri": "https://localhost:8080/"
        },
        "outputId": "d5b77647-4b90-45ac-d44a-dcb9a0e89d5f"
      },
      "source": [
        "class ConvNet(nn.Module):\n",
        "    def __init__(self):\n",
        "        super(ConvNet, self).__init__()\n",
        "        self.layer1 = nn.Sequential(\n",
        "            nn.Conv2d(1, 32, kernel_size=3, stride=1,padding= 1 ),\n",
        "            nn.ReLU(),)\n",
        "        self.layer2 = nn.Sequential(\n",
        "            nn.Conv2d(32, 32, kernel_size=3, stride=1),\n",
        "            nn.ReLU(),\n",
        "            nn.MaxPool2d(kernel_size=2, stride=2),\n",
        "            nn.Dropout(),\n",
        "            )\n",
        "        self.layer3 = nn.Sequential(\n",
        "             nn.Conv2d(32, 64, kernel_size=3, stride=1, padding=1),\n",
        "             nn.ReLU(),\n",
        "        )\n",
        "        self.layer4 = nn.Sequential(\n",
        "             nn.Conv2d(64, 64, kernel_size=3, stride=1),\n",
        "             nn.ReLU(),\n",
        "             nn.MaxPool2d(kernel_size=2, stride=2),\n",
        "             nn.Dropout(),\n",
        "        ) \n",
        "\n",
        "        self.fc1 = nn.Sequential(\n",
        "            nn.Linear(6 * 6 * 64, 512),\n",
        "            nn.ReLU(),\n",
        "            nn.Dropout(),\n",
        "        )\n",
        "        self.fc2 = nn.Sequential(\n",
        "            nn.Linear(512, 64),\n",
        "            nn.ReLU(),\n",
        "            nn.Dropout(),\n",
        "        )\n",
        "        self.fc3 = nn.Sequential(\n",
        "            nn.Linear(64, 1),\n",
        "            nn.Sigmoid()\n",
        "        )\n",
        "    def forward(self, x):\n",
        "        out = self.layer1(x)\n",
        "        out = self.layer2(out)\n",
        "        out = self.layer3(out)\n",
        "        out = self.layer4(out)\n",
        "        out = out.reshape(out.size(0), -1)\n",
        "        out = self.fc1(out)\n",
        "        out = self.fc2(out)\n",
        "        out = self.fc3(out)\n",
        "        return out\n",
        "\n",
        "\n",
        "BM_1 = ConvNet().to(device)\n",
        "print (BM_1)"
      ],
      "execution_count": null,
      "outputs": [
        {
          "output_type": "stream",
          "name": "stdout",
          "text": [
            "ConvNet(\n",
            "  (layer1): Sequential(\n",
            "    (0): Conv2d(1, 32, kernel_size=(3, 3), stride=(1, 1), padding=(1, 1))\n",
            "    (1): ReLU()\n",
            "  )\n",
            "  (layer2): Sequential(\n",
            "    (0): Conv2d(32, 32, kernel_size=(3, 3), stride=(1, 1))\n",
            "    (1): ReLU()\n",
            "    (2): MaxPool2d(kernel_size=2, stride=2, padding=0, dilation=1, ceil_mode=False)\n",
            "    (3): Dropout(p=0.5, inplace=False)\n",
            "  )\n",
            "  (layer3): Sequential(\n",
            "    (0): Conv2d(32, 64, kernel_size=(3, 3), stride=(1, 1), padding=(1, 1))\n",
            "    (1): ReLU()\n",
            "  )\n",
            "  (layer4): Sequential(\n",
            "    (0): Conv2d(64, 64, kernel_size=(3, 3), stride=(1, 1))\n",
            "    (1): ReLU()\n",
            "    (2): MaxPool2d(kernel_size=2, stride=2, padding=0, dilation=1, ceil_mode=False)\n",
            "    (3): Dropout(p=0.5, inplace=False)\n",
            "  )\n",
            "  (fc1): Sequential(\n",
            "    (0): Linear(in_features=2304, out_features=512, bias=True)\n",
            "    (1): ReLU()\n",
            "    (2): Dropout(p=0.5, inplace=False)\n",
            "  )\n",
            "  (fc2): Sequential(\n",
            "    (0): Linear(in_features=512, out_features=64, bias=True)\n",
            "    (1): ReLU()\n",
            "    (2): Dropout(p=0.5, inplace=False)\n",
            "  )\n",
            "  (fc3): Sequential(\n",
            "    (0): Linear(in_features=64, out_features=1, bias=True)\n",
            "    (1): Sigmoid()\n",
            "  )\n",
            ")\n"
          ]
        }
      ]
    },
    {
      "cell_type": "code",
      "metadata": {
        "id": "WQu7qQmEPTPP"
      },
      "source": [
        "BM_1.apply(weight_reset)"
      ],
      "execution_count": null,
      "outputs": []
    },
    {
      "cell_type": "code",
      "metadata": {
        "id": "uTAl46RFZDrc",
        "colab": {
          "base_uri": "https://localhost:8080/"
        },
        "outputId": "f33a7bb6-0db4-42d2-fbaa-e89c8e992bf7"
      },
      "source": [
        "PATH = \"/content/drive/MyDrive/PROJECT/T_Khan-Snoring_Dataset/data_MFCC_PAPER.json\" #Give the path of the json files here.(Different paths for melspec and MFCC)\n",
        "train_loss, val_loss, test_loader = training_loop(BM_1 , PATH, num_epochs = 20, learning_rate = 0.0001, batch_size = 50)"
      ],
      "execution_count": null,
      "outputs": [
        {
          "output_type": "stream",
          "name": "stdout",
          "text": [
            "Data succesfully loaded!\n",
            "[INFO] training the network...\n",
            "[INFO] EPOCH: 1/20\n",
            "Train loss: 0.767485, Val loss: 0.9195\n",
            "[INFO] EPOCH: 2/20\n",
            "Train loss: 0.757096, Val loss: 0.9051\n",
            "[INFO] EPOCH: 3/20\n",
            "Train loss: 0.752332, Val loss: 0.8995\n",
            "[INFO] EPOCH: 4/20\n",
            "Train loss: 0.745189, Val loss: 0.8977\n",
            "[INFO] EPOCH: 5/20\n",
            "Train loss: 0.725308, Val loss: 0.8870\n",
            "[INFO] EPOCH: 6/20\n",
            "Train loss: 0.718029, Val loss: 0.8834\n",
            "[INFO] EPOCH: 7/20\n",
            "Train loss: 0.711430, Val loss: 0.8597\n",
            "[INFO] EPOCH: 8/20\n",
            "Train loss: 0.686762, Val loss: 0.8426\n",
            "[INFO] EPOCH: 9/20\n",
            "Train loss: 0.676371, Val loss: 0.8334\n",
            "[INFO] EPOCH: 10/20\n",
            "Train loss: 0.662082, Val loss: 0.7486\n",
            "[INFO] EPOCH: 11/20\n",
            "Train loss: 0.611575, Val loss: 0.7039\n",
            "[INFO] EPOCH: 12/20\n",
            "Train loss: 0.556879, Val loss: 0.6144\n",
            "[INFO] EPOCH: 13/20\n",
            "Train loss: 0.530856, Val loss: 0.5767\n",
            "[INFO] EPOCH: 14/20\n",
            "Train loss: 0.487372, Val loss: 0.4064\n",
            "[INFO] EPOCH: 15/20\n",
            "Train loss: 0.424636, Val loss: 0.3151\n",
            "[INFO] EPOCH: 16/20\n",
            "Train loss: 0.370611, Val loss: 0.2934\n",
            "[INFO] EPOCH: 17/20\n",
            "Train loss: 0.328763, Val loss: 0.2256\n",
            "[INFO] EPOCH: 18/20\n",
            "Train loss: 0.245596, Val loss: 0.1679\n",
            "[INFO] EPOCH: 19/20\n",
            "Train loss: 0.242071, Val loss: 0.1767\n",
            "[INFO] EPOCH: 20/20\n",
            "Train loss: 0.233317, Val loss: 0.1650\n",
            "[INFO] total time taken to train the model: 65.73s\n"
          ]
        }
      ]
    },
    {
      "cell_type": "markdown",
      "metadata": {
        "id": "VmzUBrrTY62u"
      },
      "source": [
        "PLOT LOSS"
      ]
    },
    {
      "cell_type": "code",
      "metadata": {
        "colab": {
          "base_uri": "https://localhost:8080/",
          "height": 295
        },
        "id": "YNu0nQS9u78O",
        "outputId": "ca79f8cd-0628-4a8f-95b7-ff38d1e9cc51"
      },
      "source": [
        "fig, ax = plt.subplots()\n",
        "ax.plot(train_loss, label=\"train loss\")\n",
        "ax.plot(val_loss, label=\"val loss\")\n",
        "ax.set_ylabel(\"Error\")\n",
        "ax.set_xlabel(\"Epoch\")\n",
        "ax.legend(loc=\"upper left\")\n",
        "ax.set_title(\"Error eval\")\n",
        "\n",
        "plt.show()"
      ],
      "execution_count": null,
      "outputs": [
        {
          "output_type": "display_data",
          "data": {
            "image/png": "[encoded data removed]",
            "text/plain": [
              "<Figure size 432x288 with 1 Axes>"
            ]
          },
          "metadata": {
            "needs_background": "light"
          }
        }
      ]
    },
    {
      "cell_type": "markdown",
      "metadata": {
        "id": "R0TJievvZWb8"
      },
      "source": [
        "EVALUATE THE MODEL"
      ]
    },
    {
      "cell_type": "code",
      "metadata": {
        "colab": {
          "base_uri": "https://localhost:8080/"
        },
        "id": "iiN7qKaORp7F",
        "outputId": "2e72dc47-0ec0-4546-f1cf-f72aaa8475a8"
      },
      "source": [
        "# Test the model\n",
        "y_pred_list = []\n",
        "y_test_list = []\n",
        "with torch.no_grad():\n",
        "  BM_1.eval()  # eval mode \n",
        "  correct = 0\n",
        "  total = 0\n",
        "  for images, labels in test_loader:\n",
        "    images = images.to(device)\n",
        "    labels = labels.to(device)\n",
        "    outputs = BM_1(images)\n",
        "    predicted = torch.round(outputs)\n",
        "    y_pred_list.append(predicted.cpu().numpy())\n",
        "    y_test_list.append(labels.cpu().numpy())\n",
        "    total += labels.size(0)\n",
        "    correct += (predicted == labels).sum().item()\n",
        "\n",
        "\n",
        "print('Model1 (baseline) Accuracy on the test SNORE SOUND SAMPLES using MFCC features: {} %'.format(100 * correct / total))\n",
        "\n",
        "# flatten prediction and true lists\n",
        "flat_pred = []\n",
        "flat_true = []\n",
        "for i in range(len(y_pred_list)):\n",
        "    for j in range(len(y_pred_list[i])):\n",
        "        flat_pred.append(y_pred_list[i][j])\n",
        "        flat_true.append(y_test_list[i][j])\n",
        "\n",
        "from sklearn.metrics import classification_report\n",
        "target_names = ['class 0', 'class 1']\n",
        "print(\"\\n\")\n",
        "print(\"\\t\\t CLASSIFICATION REPORT\\n\")\n",
        "print(classification_report(flat_true, flat_pred,target_names=target_names))"
      ],
      "execution_count": null,
      "outputs": [
        {
          "output_type": "stream",
          "name": "stdout",
          "text": [
            "Model1 (baseline) Accuracy on the test SNORE SOUND SAMPLES using MFCC features: 96.5 %\n",
            "\n",
            "\n",
            "\t\t CLASSIFICATION REPORT\n",
            "\n",
            "              precision    recall  f1-score   support\n",
            "\n",
            "     class 0       0.95      0.99      0.97       107\n",
            "     class 1       0.99      0.94      0.96        93\n",
            "\n",
            "    accuracy                           0.96       200\n",
            "   macro avg       0.97      0.96      0.96       200\n",
            "weighted avg       0.97      0.96      0.96       200\n",
            "\n"
          ]
        }
      ]
    },
    {
      "cell_type": "markdown",
      "metadata": {
        "id": "Kmeb2XcfFfZK"
      },
      "source": [
        "#BASELINE PAPER MODEL WITH SLIGHT MODIFICATIONS \n",
        "FOR MAKING IT COMPATIBLE WITH MEL SPECTOGRAM FEATURE\n",
        "\n",
        "\n"
      ]
    },
    {
      "cell_type": "code",
      "metadata": {
        "colab": {
          "base_uri": "https://localhost:8080/"
        },
        "id": "oimGmX8Jil9E",
        "outputId": "5f512286-5760-4f01-b442-27fa500895c7"
      },
      "source": [
        "class ConvNet2(nn.Module):\n",
        "    def __init__(self):\n",
        "        super(ConvNet2, self).__init__()\n",
        "        self.layer1 = nn.Sequential(\n",
        "            nn.Conv2d(1, 32, kernel_size=3, stride=1,padding= 1 ),\n",
        "            nn.ReLU(),)\n",
        "        self.layer2 = nn.Sequential(\n",
        "            nn.Conv2d(32, 32, kernel_size=3, stride=1),\n",
        "            nn.ReLU(),\n",
        "            nn.MaxPool2d(kernel_size=2, stride=2),\n",
        "            nn.Dropout(),\n",
        "            )\n",
        "        self.layer3 = nn.Sequential(\n",
        "             nn.Conv2d(32, 64, kernel_size=3, stride=1, padding=1),\n",
        "             nn.MaxPool2d(kernel_size=2, stride=2),\n",
        "             nn.ReLU(),\n",
        "        )\n",
        "        self.layer4 = nn.Sequential(\n",
        "             nn.Conv2d(64, 64, kernel_size=3, stride=1),\n",
        "             nn.ReLU(),\n",
        "             nn.MaxPool2d(kernel_size=2, stride=2),\n",
        "             nn.Dropout(),\n",
        "        ) \n",
        "\n",
        "        self.fc1 = nn.Sequential(\n",
        "            nn.Linear(7 * 8 * 64, 512),\n",
        "            nn.ReLU(),\n",
        "            nn.Dropout(),\n",
        "        )\n",
        "        self.fc2 = nn.Sequential(\n",
        "            nn.Linear(512, 64),\n",
        "            nn.ReLU(),\n",
        "            nn.Dropout(),\n",
        "        )\n",
        "        self.fc3 = nn.Sequential(\n",
        "            nn.Linear(64, 1),\n",
        "            nn.Sigmoid()\n",
        "        )\n",
        "    def forward(self, x):\n",
        "        out = self.layer1(x)\n",
        "        out = self.layer2(out)\n",
        "        out = self.layer3(out)\n",
        "        out = self.layer4(out)\n",
        "        out = out.reshape(out.size(0), -1)\n",
        "        out = self.fc1(out)\n",
        "        out = self.fc2(out)\n",
        "        out = self.fc3(out)\n",
        "        return out\n",
        "\n",
        "\n",
        "BM_2 = ConvNet2().to(device)\n",
        "print (BM_2)"
      ],
      "execution_count": null,
      "outputs": [
        {
          "output_type": "stream",
          "name": "stdout",
          "text": [
            "ConvNet2(\n",
            "  (layer1): Sequential(\n",
            "    (0): Conv2d(1, 32, kernel_size=(3, 3), stride=(1, 1), padding=(1, 1))\n",
            "    (1): ReLU()\n",
            "  )\n",
            "  (layer2): Sequential(\n",
            "    (0): Conv2d(32, 32, kernel_size=(3, 3), stride=(1, 1))\n",
            "    (1): ReLU()\n",
            "    (2): MaxPool2d(kernel_size=2, stride=2, padding=0, dilation=1, ceil_mode=False)\n",
            "    (3): Dropout(p=0.5, inplace=False)\n",
            "  )\n",
            "  (layer3): Sequential(\n",
            "    (0): Conv2d(32, 64, kernel_size=(3, 3), stride=(1, 1), padding=(1, 1))\n",
            "    (1): MaxPool2d(kernel_size=2, stride=2, padding=0, dilation=1, ceil_mode=False)\n",
            "    (2): ReLU()\n",
            "  )\n",
            "  (layer4): Sequential(\n",
            "    (0): Conv2d(64, 64, kernel_size=(3, 3), stride=(1, 1))\n",
            "    (1): ReLU()\n",
            "    (2): MaxPool2d(kernel_size=2, stride=2, padding=0, dilation=1, ceil_mode=False)\n",
            "    (3): Dropout(p=0.5, inplace=False)\n",
            "  )\n",
            "  (fc1): Sequential(\n",
            "    (0): Linear(in_features=3584, out_features=512, bias=True)\n",
            "    (1): ReLU()\n",
            "    (2): Dropout(p=0.5, inplace=False)\n",
            "  )\n",
            "  (fc2): Sequential(\n",
            "    (0): Linear(in_features=512, out_features=64, bias=True)\n",
            "    (1): ReLU()\n",
            "    (2): Dropout(p=0.5, inplace=False)\n",
            "  )\n",
            "  (fc3): Sequential(\n",
            "    (0): Linear(in_features=64, out_features=1, bias=True)\n",
            "    (1): Sigmoid()\n",
            "  )\n",
            ")\n"
          ]
        }
      ]
    },
    {
      "cell_type": "code",
      "metadata": {
        "id": "TvQ3a2aFTlDf"
      },
      "source": [
        "BM_2.apply(weight_reset)"
      ],
      "execution_count": null,
      "outputs": []
    },
    {
      "cell_type": "code",
      "metadata": {
        "colab": {
          "base_uri": "https://localhost:8080/"
        },
        "id": "tInHy6HLTL5C",
        "outputId": "a9775e5b-ff94-48d4-c0b0-0d86881f07d9"
      },
      "source": [
        "#Give the path of the json files here.(Different paths for melspec and MFCC)\n",
        "PATH1 = \"/content/drive/MyDrive/PROJECT/T_Khan-Snoring_Dataset/data_MEL_SPEC_final.json\"\n",
        "train_loss, val_loss, test_loader = training_loop(BM_2 , PATH1, num_epochs = 20, learning_rate = 0.0001, batch_size = 100)"
      ],
      "execution_count": null,
      "outputs": [
        {
          "output_type": "stream",
          "name": "stdout",
          "text": [
            "Data succesfully loaded!\n",
            "[INFO] training the network...\n",
            "[INFO] EPOCH: 1/20\n",
            "Train loss: 0.873368, Val loss: 1.3866\n",
            "[INFO] EPOCH: 2/20\n",
            "Train loss: 0.820949, Val loss: 1.3780\n",
            "[INFO] EPOCH: 3/20\n",
            "Train loss: 0.815179, Val loss: 1.3767\n",
            "[INFO] EPOCH: 4/20\n",
            "Train loss: 0.812097, Val loss: 1.3774\n",
            "[INFO] EPOCH: 5/20\n",
            "Train loss: 0.804157, Val loss: 1.3825\n",
            "[INFO] EPOCH: 6/20\n",
            "Train loss: 0.810819, Val loss: 1.3829\n",
            "[INFO] EPOCH: 7/20\n",
            "Train loss: 0.809115, Val loss: 1.3797\n",
            "[INFO] EPOCH: 8/20\n",
            "Train loss: 0.805010, Val loss: 1.3781\n",
            "[INFO] EPOCH: 9/20\n",
            "Train loss: 0.803648, Val loss: 1.3757\n",
            "[INFO] EPOCH: 10/20\n",
            "Train loss: 0.813557, Val loss: 1.3745\n",
            "[INFO] EPOCH: 11/20\n",
            "Train loss: 0.803243, Val loss: 1.3753\n",
            "[INFO] EPOCH: 12/20\n",
            "Train loss: 0.802965, Val loss: 1.3773\n",
            "[INFO] EPOCH: 13/20\n",
            "Train loss: 0.799590, Val loss: 1.3763\n",
            "[INFO] EPOCH: 14/20\n",
            "Train loss: 0.811165, Val loss: 1.3757\n",
            "[INFO] EPOCH: 15/20\n",
            "Train loss: 0.800618, Val loss: 1.3738\n",
            "[INFO] EPOCH: 16/20\n",
            "Train loss: 0.793540, Val loss: 1.3760\n",
            "[INFO] EPOCH: 17/20\n",
            "Train loss: 0.795860, Val loss: 1.3705\n",
            "[INFO] EPOCH: 18/20\n",
            "Train loss: 0.788628, Val loss: 1.3665\n",
            "[INFO] EPOCH: 19/20\n",
            "Train loss: 0.800026, Val loss: 1.3542\n",
            "[INFO] EPOCH: 20/20\n",
            "Train loss: 0.777530, Val loss: 1.3483\n",
            "[INFO] total time taken to train the model: 250.24s\n"
          ]
        }
      ]
    },
    {
      "cell_type": "code",
      "metadata": {
        "colab": {
          "base_uri": "https://localhost:8080/",
          "height": 295
        },
        "id": "3kdJVOMLTUWL",
        "outputId": "c41b27f4-d07e-4fac-aca9-a54edc5115ca"
      },
      "source": [
        "fig, ax = plt.subplots()\n",
        "ax.plot(train_loss, label=\"train loss\")\n",
        "ax.plot(val_loss, label=\"val loss\")\n",
        "ax.set_ylabel(\"Error\")\n",
        "ax.set_xlabel(\"Epoch\")\n",
        "ax.legend(loc=\"upper left\")\n",
        "ax.set_title(\"Error eval\")\n",
        "\n",
        "plt.show()"
      ],
      "execution_count": null,
      "outputs": [
        {
          "output_type": "display_data",
          "data": {
            "image/png": "[encoded data removed]",
            "text/plain": [
              "<Figure size 432x288 with 1 Axes>"
            ]
          },
          "metadata": {
            "needs_background": "light"
          }
        }
      ]
    },
    {
      "cell_type": "code",
      "metadata": {
        "colab": {
          "base_uri": "https://localhost:8080/"
        },
        "id": "Hjp021FrRXXj",
        "outputId": "6b468f5d-73a7-4862-d071-1cc5baf76244"
      },
      "source": [
        "# Test the model\n",
        "y_pred_list = []\n",
        "y_test_list = []\n",
        "with torch.no_grad():\n",
        "  BM_2.eval()  # eval mode \n",
        "  correct = 0\n",
        "  total = 0\n",
        "  for images, labels in test_loader:\n",
        "    images = images.to(device)\n",
        "    labels = labels.to(device)\n",
        "    outputs = BM_2(images)\n",
        "    predicted = torch.round(outputs)\n",
        "    y_pred_list.append(predicted.cpu().numpy())\n",
        "    y_test_list.append(labels.cpu().numpy())\n",
        "    total += labels.size(0)\n",
        "    correct += (predicted == labels).sum().item()\n",
        "\n",
        "\n",
        "print('Model-2(baseline) Accuracy on the test SNORE SOUND SAMPLES using MEL SPECTROGRAM: {} %'.format(100 * correct / total))\n",
        "\n",
        "# flatten prediction and true lists\n",
        "flat_pred = []\n",
        "flat_true = []\n",
        "for i in range(len(y_pred_list)):\n",
        "    for j in range(len(y_pred_list[i])):\n",
        "        flat_pred.append(y_pred_list[i][j])\n",
        "        flat_true.append(y_test_list[i][j])\n",
        "\n",
        "from sklearn.metrics import classification_report\n",
        "target_names = ['class 0', 'class 1']\n",
        "print(\"\\n\")\n",
        "print(\"\\t\\t CLASSIFICATION REPORT\\n\")\n",
        "print(classification_report(flat_true, flat_pred,target_names=target_names))"
      ],
      "execution_count": null,
      "outputs": [
        {
          "output_type": "stream",
          "name": "stdout",
          "text": [
            "Model-2(baseline) Accuracy on the test SNORE SOUND SAMPLES using MEL SPECTROGRAM: 65.0 %\n",
            "\n",
            "\n",
            "\t\t CLASSIFICATION REPORT\n",
            "\n",
            "              precision    recall  f1-score   support\n",
            "\n",
            "     class 0       0.97      0.29      0.44        97\n",
            "     class 1       0.60      0.99      0.74       103\n",
            "\n",
            "    accuracy                           0.65       200\n",
            "   macro avg       0.78      0.64      0.59       200\n",
            "weighted avg       0.78      0.65      0.60       200\n",
            "\n"
          ]
        }
      ]
    },
    {
      "cell_type": "markdown",
      "metadata": {
        "id": "Kgn_6jN0awke"
      },
      "source": [
        "# SIMPLE DNN MODEL\n",
        "FOR MFCC FEATURE"
      ]
    },
    {
      "cell_type": "code",
      "metadata": {
        "colab": {
          "base_uri": "https://localhost:8080/"
        },
        "id": "R2W_FRcra4t-",
        "outputId": "a01581c4-4d08-4c76-88e6-132cc2b14b39"
      },
      "source": [
        "class DNN1(nn.Module):\n",
        "    def __init__(self):\n",
        "        super(DNN1, self).__init__()\n",
        "\n",
        "        self.fc1 = nn.Sequential(\n",
        "            nn.Linear(32*32, 512),\n",
        "            nn.ReLU(),\n",
        "            nn.Dropout(),\n",
        "        )\n",
        "        self.fc2 = nn.Sequential(\n",
        "            nn.Linear(512, 256),\n",
        "            nn.ReLU(),\n",
        "            nn.Dropout(),\n",
        "        )\n",
        "        self.fc3 = nn.Sequential(\n",
        "            nn.Linear(256, 128),\n",
        "            nn.ReLU(),\n",
        "            nn.Dropout(),\n",
        "        )\n",
        "        self.fc4 = nn.Sequential(\n",
        "            nn.Linear(128, 64),\n",
        "            nn.ReLU(),\n",
        "            nn.Dropout(),\n",
        "        )\n",
        "        self.fc5 = nn.Sequential(\n",
        "            nn.Linear(64, 1),\n",
        "            nn.Sigmoid(),\n",
        "        )\n",
        "\n",
        "\n",
        "    def forward(self, x):\n",
        "        x = x.reshape(-1,32*32)\n",
        "        \n",
        "        out = self.fc1(x)\n",
        "        out = self.fc2(out)\n",
        "        out = self.fc3(out)\n",
        "        out = self.fc4(out)\n",
        "        out = self.fc5(out)\n",
        "      \n",
        "        return out\n",
        "\n",
        "\n",
        "DNN_1 = DNN1().to(device)\n",
        "print (DNN_1)"
      ],
      "execution_count": null,
      "outputs": [
        {
          "output_type": "stream",
          "name": "stdout",
          "text": [
            "DNN1(\n",
            "  (fc1): Sequential(\n",
            "    (0): Linear(in_features=1024, out_features=512, bias=True)\n",
            "    (1): ReLU()\n",
            "    (2): Dropout(p=0.5, inplace=False)\n",
            "  )\n",
            "  (fc2): Sequential(\n",
            "    (0): Linear(in_features=512, out_features=256, bias=True)\n",
            "    (1): ReLU()\n",
            "    (2): Dropout(p=0.5, inplace=False)\n",
            "  )\n",
            "  (fc3): Sequential(\n",
            "    (0): Linear(in_features=256, out_features=128, bias=True)\n",
            "    (1): ReLU()\n",
            "    (2): Dropout(p=0.5, inplace=False)\n",
            "  )\n",
            "  (fc4): Sequential(\n",
            "    (0): Linear(in_features=128, out_features=64, bias=True)\n",
            "    (1): ReLU()\n",
            "    (2): Dropout(p=0.5, inplace=False)\n",
            "  )\n",
            "  (fc5): Sequential(\n",
            "    (0): Linear(in_features=64, out_features=1, bias=True)\n",
            "    (1): Sigmoid()\n",
            "  )\n",
            ")\n"
          ]
        }
      ]
    },
    {
      "cell_type": "code",
      "metadata": {
        "id": "CHg3KCnKdYlg"
      },
      "source": [
        "DNN_1.apply(weight_reset)"
      ],
      "execution_count": null,
      "outputs": []
    },
    {
      "cell_type": "code",
      "metadata": {
        "colab": {
          "base_uri": "https://localhost:8080/"
        },
        "id": "dsnxgVNVa44F",
        "outputId": "6e9ae02e-a829-4654-b471-e61df7c03d20"
      },
      "source": [
        "PATH = \"/content/drive/MyDrive/PROJECT/T_Khan-Snoring_Dataset/data_MFCC_PAPER.json\" #Give the path of the json files here.(Different paths for melspec and MFCC)\n",
        "train_loss, val_loss, test_loader = training_loop(DNN_1, PATH, num_epochs = 20, learning_rate = 0.0001, batch_size = 50)"
      ],
      "execution_count": null,
      "outputs": [
        {
          "output_type": "stream",
          "name": "stdout",
          "text": [
            "Data succesfully loaded!\n",
            "[INFO] training the network...\n",
            "[INFO] EPOCH: 1/20\n",
            "Train loss: 1.559940, Val loss: 0.9888\n",
            "[INFO] EPOCH: 2/20\n",
            "Train loss: 1.358503, Val loss: 0.9192\n",
            "[INFO] EPOCH: 3/20\n",
            "Train loss: 1.194872, Val loss: 0.9177\n",
            "[INFO] EPOCH: 4/20\n",
            "Train loss: 1.094224, Val loss: 0.9116\n",
            "[INFO] EPOCH: 5/20\n",
            "Train loss: 1.016363, Val loss: 0.9183\n",
            "[INFO] EPOCH: 6/20\n",
            "Train loss: 1.008627, Val loss: 0.9212\n",
            "[INFO] EPOCH: 7/20\n",
            "Train loss: 0.864174, Val loss: 0.9188\n",
            "[INFO] EPOCH: 8/20\n",
            "Train loss: 0.878865, Val loss: 0.9179\n",
            "[INFO] EPOCH: 9/20\n",
            "Train loss: 0.882536, Val loss: 0.9070\n",
            "[INFO] EPOCH: 10/20\n",
            "Train loss: 0.836991, Val loss: 0.9002\n",
            "[INFO] EPOCH: 11/20\n",
            "Train loss: 0.804557, Val loss: 0.9105\n",
            "[INFO] EPOCH: 12/20\n",
            "Train loss: 0.805465, Val loss: 0.9086\n",
            "[INFO] EPOCH: 13/20\n",
            "Train loss: 0.771461, Val loss: 0.8900\n",
            "[INFO] EPOCH: 14/20\n",
            "Train loss: 0.813608, Val loss: 0.8842\n",
            "[INFO] EPOCH: 15/20\n",
            "Train loss: 0.796445, Val loss: 0.8783\n",
            "[INFO] EPOCH: 16/20\n",
            "Train loss: 0.763589, Val loss: 0.8562\n",
            "[INFO] EPOCH: 17/20\n",
            "Train loss: 0.755551, Val loss: 0.8574\n",
            "[INFO] EPOCH: 18/20\n",
            "Train loss: 0.727676, Val loss: 0.8531\n",
            "[INFO] EPOCH: 19/20\n",
            "Train loss: 0.725074, Val loss: 0.8541\n",
            "[INFO] EPOCH: 20/20\n",
            "Train loss: 0.725081, Val loss: 0.8212\n",
            "[INFO] total time taken to train the model: 13.35s\n"
          ]
        }
      ]
    },
    {
      "cell_type": "code",
      "metadata": {
        "colab": {
          "base_uri": "https://localhost:8080/",
          "height": 295
        },
        "id": "4es9dc8oa46s",
        "outputId": "8dd518cb-7bd8-4994-ae92-00bfbc9351c7"
      },
      "source": [
        "fig, ax = plt.subplots()\n",
        "ax.plot(train_loss, label=\"train loss\")\n",
        "ax.plot(val_loss, label=\"val loss\")\n",
        "ax.set_ylabel(\"Error\")\n",
        "ax.set_xlabel(\"Epoch\")\n",
        "ax.legend(loc=\"upper left\")\n",
        "ax.set_title(\"Error eval\")\n",
        "\n",
        "plt.show()"
      ],
      "execution_count": null,
      "outputs": [
        {
          "output_type": "display_data",
          "data": {
            "image/png": "[encoded data removed]",
            "text/plain": [
              "<Figure size 432x288 with 1 Axes>"
            ]
          },
          "metadata": {
            "needs_background": "light"
          }
        }
      ]
    },
    {
      "cell_type": "code",
      "metadata": {
        "colab": {
          "base_uri": "https://localhost:8080/"
        },
        "id": "dtJhq9w3a49s",
        "outputId": "118d7119-0664-4377-f5e6-1506e3443a43"
      },
      "source": [
        "# Test the model\n",
        "y_pred_list = []\n",
        "y_test_list = []\n",
        "with torch.no_grad():\n",
        "  DNN_1.eval()  # eval mode \n",
        "  correct = 0\n",
        "  total = 0\n",
        "  for images, labels in test_loader:\n",
        "    images = images.to(device)\n",
        "    labels = labels.to(device)\n",
        "    outputs = DNN_1(images)\n",
        "    predicted = torch.round(outputs)\n",
        "    y_pred_list.append(predicted.cpu().numpy())\n",
        "    y_test_list.append(labels.cpu().numpy())\n",
        "    total += labels.size(0)\n",
        "    correct += (predicted == labels).sum().item()\n",
        "\n",
        "y_pred_list = [a.squeeze().tolist() for a in y_pred_list]\n",
        "#y_test_list = [a.squeeze().tolist() for a in y_test_list]\n",
        "\n",
        "print('Simple DNN-1 Accuracy on the test SNORE SOUND SAMPLES using MFCC Features: {} %'.format(100 * correct / total))\n",
        "\n",
        "# flatten prediction and true lists\n",
        "flat_pred = []\n",
        "flat_true = []\n",
        "for i in range(len(y_pred_list)):\n",
        "    for j in range(len(y_pred_list[i])):\n",
        "        flat_pred.append(y_pred_list[i][j])\n",
        "        flat_true.append(y_test_list[i][j])\n",
        "\n",
        "from sklearn.metrics import classification_report\n",
        "target_names = ['class 0', 'class 1']\n",
        "print(\"\\n\")\n",
        "print(\"\\t\\t CLASSIFICATION REPORT\\n\")\n",
        "print(classification_report(flat_true, flat_pred,target_names=target_names))"
      ],
      "execution_count": null,
      "outputs": [
        {
          "output_type": "stream",
          "name": "stdout",
          "text": [
            "Simple DNN-1 Accuracy on the test SNORE SOUND SAMPLES using MFCC Features: 66.0 %\n",
            "\n",
            "\n",
            "\t\t CLASSIFICATION REPORT\n",
            "\n",
            "              precision    recall  f1-score   support\n",
            "\n",
            "     class 0       0.88      0.36      0.51        99\n",
            "     class 1       0.60      0.95      0.74       101\n",
            "\n",
            "    accuracy                           0.66       200\n",
            "   macro avg       0.74      0.66      0.63       200\n",
            "weighted avg       0.74      0.66      0.63       200\n",
            "\n"
          ]
        }
      ]
    },
    {
      "cell_type": "markdown",
      "metadata": {
        "id": "nxASDw3AeDvZ"
      },
      "source": [
        "# SIMPLE DNN MODEL\n",
        "Using Mel SPectrogram"
      ]
    },
    {
      "cell_type": "code",
      "metadata": {
        "colab": {
          "base_uri": "https://localhost:8080/"
        },
        "id": "vEjp3sWAa5Ad",
        "outputId": "c124ebae-9fa5-42f6-e00c-1001b7b468b3"
      },
      "source": [
        "class DNN2(nn.Module):\n",
        "    def __init__(self):\n",
        "        super(DNN2, self).__init__()\n",
        "\n",
        "        self.fc1 = nn.Sequential(\n",
        "            nn.Linear(128*44, 1024),\n",
        "            nn.ReLU(),\n",
        "            nn.Dropout(),\n",
        "        )\n",
        "        self.fc2 = nn.Sequential(\n",
        "            nn.Linear(1024, 512),\n",
        "            nn.ReLU(),\n",
        "            nn.Dropout(),\n",
        "        )\n",
        "        self.fc3 = nn.Sequential(\n",
        "            nn.Linear(512,256),\n",
        "            nn.ReLU(),\n",
        "            nn.Dropout(),\n",
        "        )\n",
        "        self.fc4 = nn.Sequential(\n",
        "            nn.Linear(256, 64),\n",
        "            nn.ReLU(),\n",
        "            nn.Dropout(),\n",
        "        )\n",
        "        self.fc5 = nn.Sequential(\n",
        "            nn.Linear(64, 1),\n",
        "            nn.Sigmoid(),\n",
        "        )\n",
        "\n",
        "\n",
        "    def forward(self, x):\n",
        "        x = x.reshape(-1,128*44)\n",
        "        \n",
        "        out = self.fc1(x)\n",
        "        out = self.fc2(out)\n",
        "        out = self.fc3(out)\n",
        "        out = self.fc4(out)\n",
        "        out = self.fc5(out)\n",
        "      \n",
        "        return out\n",
        "\n",
        "\n",
        "DNN_2 = DNN2().to(device)\n",
        "print (DNN_2)"
      ],
      "execution_count": null,
      "outputs": [
        {
          "output_type": "stream",
          "name": "stdout",
          "text": [
            "DNN2(\n",
            "  (fc1): Sequential(\n",
            "    (0): Linear(in_features=5632, out_features=1024, bias=True)\n",
            "    (1): ReLU()\n",
            "    (2): Dropout(p=0.5, inplace=False)\n",
            "  )\n",
            "  (fc2): Sequential(\n",
            "    (0): Linear(in_features=1024, out_features=512, bias=True)\n",
            "    (1): ReLU()\n",
            "    (2): Dropout(p=0.5, inplace=False)\n",
            "  )\n",
            "  (fc3): Sequential(\n",
            "    (0): Linear(in_features=512, out_features=256, bias=True)\n",
            "    (1): ReLU()\n",
            "    (2): Dropout(p=0.5, inplace=False)\n",
            "  )\n",
            "  (fc4): Sequential(\n",
            "    (0): Linear(in_features=256, out_features=64, bias=True)\n",
            "    (1): ReLU()\n",
            "    (2): Dropout(p=0.5, inplace=False)\n",
            "  )\n",
            "  (fc5): Sequential(\n",
            "    (0): Linear(in_features=64, out_features=1, bias=True)\n",
            "    (1): Sigmoid()\n",
            "  )\n",
            ")\n"
          ]
        }
      ]
    },
    {
      "cell_type": "code",
      "metadata": {
        "id": "i23LDhDXa5Dd"
      },
      "source": [
        "DNN_2.apply(weight_reset)"
      ],
      "execution_count": null,
      "outputs": []
    },
    {
      "cell_type": "code",
      "metadata": {
        "colab": {
          "base_uri": "https://localhost:8080/"
        },
        "id": "ibuY_CD3fT78",
        "outputId": "271e5622-3ca6-4333-93eb-e67c9821096a"
      },
      "source": [
        "PATH = \"/content/drive/MyDrive/PROJECT/T_Khan-Snoring_Dataset/data_MEL_SPEC_final.json\" #Give the path of the json files here.(Different paths for melspec and MFCC)\n",
        "train_loss, val_loss, test_loader = training_loop(DNN_2, PATH, num_epochs = 20, learning_rate = 0.0001, batch_size = 50)"
      ],
      "execution_count": null,
      "outputs": [
        {
          "output_type": "stream",
          "name": "stdout",
          "text": [
            "Data succesfully loaded!\n",
            "[INFO] training the network...\n",
            "[INFO] EPOCH: 1/20\n",
            "Train loss: 0.743119, Val loss: 0.9101\n",
            "[INFO] EPOCH: 2/20\n",
            "Train loss: 0.742400, Val loss: 0.9179\n",
            "[INFO] EPOCH: 3/20\n",
            "Train loss: 0.753543, Val loss: 0.9131\n",
            "[INFO] EPOCH: 4/20\n",
            "Train loss: 0.757054, Val loss: 0.9214\n",
            "[INFO] EPOCH: 5/20\n",
            "Train loss: 0.747110, Val loss: 0.9198\n",
            "[INFO] EPOCH: 6/20\n",
            "Train loss: 0.751426, Val loss: 0.9155\n",
            "[INFO] EPOCH: 7/20\n",
            "Train loss: 0.748252, Val loss: 0.9235\n",
            "[INFO] EPOCH: 8/20\n",
            "Train loss: 0.742415, Val loss: 0.9195\n",
            "[INFO] EPOCH: 9/20\n",
            "Train loss: 0.752341, Val loss: 0.9197\n",
            "[INFO] EPOCH: 10/20\n",
            "Train loss: 0.749715, Val loss: 0.9242\n",
            "[INFO] EPOCH: 11/20\n",
            "Train loss: 0.749884, Val loss: 0.9157\n",
            "[INFO] EPOCH: 12/20\n",
            "Train loss: 0.747798, Val loss: 0.9183\n",
            "[INFO] EPOCH: 13/20\n",
            "Train loss: 0.745274, Val loss: 0.9187\n",
            "[INFO] EPOCH: 14/20\n",
            "Train loss: 0.746889, Val loss: 0.9225\n",
            "[INFO] EPOCH: 15/20\n",
            "Train loss: 0.744984, Val loss: 0.9091\n",
            "[INFO] EPOCH: 16/20\n",
            "Train loss: 0.743795, Val loss: 0.9149\n",
            "[INFO] EPOCH: 17/20\n",
            "Train loss: 0.741991, Val loss: 0.9123\n",
            "[INFO] EPOCH: 18/20\n",
            "Train loss: 0.736850, Val loss: 0.9006\n",
            "[INFO] EPOCH: 19/20\n",
            "Train loss: 0.729371, Val loss: 0.8999\n",
            "[INFO] EPOCH: 20/20\n",
            "Train loss: 0.729013, Val loss: 0.9031\n",
            "[INFO] total time taken to train the model: 41.82s\n"
          ]
        }
      ]
    },
    {
      "cell_type": "code",
      "metadata": {
        "colab": {
          "base_uri": "https://localhost:8080/",
          "height": 295
        },
        "id": "qg1hvvfBfUL_",
        "outputId": "80b01205-4a76-463d-e06e-0185d6e3cb70"
      },
      "source": [
        "fig, ax = plt.subplots()\n",
        "ax.plot(train_loss, label=\"train loss\")\n",
        "ax.plot(val_loss, label=\"val loss\")\n",
        "ax.set_ylabel(\"Error\")\n",
        "ax.set_xlabel(\"Epoch\")\n",
        "ax.legend(loc=\"upper left\")\n",
        "ax.set_title(\"Error eval\")\n",
        "\n",
        "plt.show()"
      ],
      "execution_count": null,
      "outputs": [
        {
          "output_type": "display_data",
          "data": {
            "image/png": "[encoded data removed]",
            "text/plain": [
              "<Figure size 432x288 with 1 Axes>"
            ]
          },
          "metadata": {
            "needs_background": "light"
          }
        }
      ]
    },
    {
      "cell_type": "code",
      "metadata": {
        "colab": {
          "base_uri": "https://localhost:8080/"
        },
        "id": "SkDflUjpf5TU",
        "outputId": "021b8ef8-15b9-4287-ff26-ff236eb5c0c7"
      },
      "source": [
        "# Test the model\n",
        "y_pred_list = []\n",
        "y_test_list = []\n",
        "with torch.no_grad():\n",
        "  DNN_2.eval()  # eval mode \n",
        "  correct = 0\n",
        "  total = 0\n",
        "  for images, labels in test_loader:\n",
        "    images = images.to(device)\n",
        "    labels = labels.to(device)\n",
        "    outputs = DNN_2(images)\n",
        "    predicted = torch.round(outputs)\n",
        "    y_pred_list.append(predicted.cpu().numpy())\n",
        "    y_test_list.append(labels.cpu().numpy())\n",
        "    total += labels.size(0)\n",
        "    correct += (predicted == labels).sum().item()\n",
        "\n",
        "y_pred_list = [a.squeeze().tolist() for a in y_pred_list]\n",
        "#y_test_list = [a.squeeze().tolist() for a in y_test_list]\n",
        "\n",
        "print('Simple DNN-2 Accuracy on the test SNORE SOUND SAMPLES using Mel Spectrogram: {} %'.format(100 * correct / total))\n",
        "\n",
        "# flatten prediction and true lists\n",
        "flat_pred = []\n",
        "flat_true = []\n",
        "for i in range(len(y_pred_list)):\n",
        "    for j in range(len(y_pred_list[i])):\n",
        "        flat_pred.append(y_pred_list[i][j])\n",
        "        flat_true.append(y_test_list[i][j])\n",
        "\n",
        "from sklearn.metrics import classification_report\n",
        "target_names = ['class 0', 'class 1']\n",
        "print(\"\\n\")\n",
        "print(\"\\t\\t CLASSIFICATION REPORT\\n\")\n",
        "print(classification_report(flat_true, flat_pred,target_names=target_names))"
      ],
      "execution_count": null,
      "outputs": [
        {
          "output_type": "stream",
          "name": "stdout",
          "text": [
            "Simple DNN-2 Accuracy on the test SNORE SOUND SAMPLES using Mel Spectrogram: 59.5 %\n",
            "\n",
            "\n",
            "\t\t CLASSIFICATION REPORT\n",
            "\n",
            "              precision    recall  f1-score   support\n",
            "\n",
            "     class 0       0.63      0.50      0.56       102\n",
            "     class 1       0.57      0.69      0.63        98\n",
            "\n",
            "    accuracy                           0.59       200\n",
            "   macro avg       0.60      0.60      0.59       200\n",
            "weighted avg       0.60      0.59      0.59       200\n",
            "\n"
          ]
        }
      ]
    },
    {
      "cell_type": "markdown",
      "metadata": {
        "id": "ZY4gDGRvCDQU"
      },
      "source": [
        "#CNN-LSTM MODEL\n",
        "MFCC FEATURE"
      ]
    },
    {
      "cell_type": "code",
      "metadata": {
        "id": "EL6Jy7rUCLW2",
        "colab": {
          "base_uri": "https://localhost:8080/"
        },
        "outputId": "9f7bfdb7-f895-4491-f8ab-35eab2196510"
      },
      "source": [
        "#LSTM-CNN(two layer)\n",
        "class LSTM_Net(nn.Module):\n",
        "    def __init__(self):\n",
        "        super(LSTM_Net, self).__init__()\n",
        "        self.cnn1 = nn.Sequential(\n",
        "            nn.Conv2d(1, 32, kernel_size=3, stride=1,padding= 1 ),\n",
        "            nn.ReLU(),\n",
        "            nn.MaxPool2d(kernel_size=2, stride=2),\n",
        "            )\n",
        "        self.cnn2 = nn.Sequential(\n",
        "            nn.Conv2d(32, 64, kernel_size=3, stride=1,padding= 1),\n",
        "            nn.ReLU(),\n",
        "            nn.MaxPool2d(kernel_size=2, stride=2),\n",
        "            nn.Dropout(),\n",
        "            )\n",
        "        self.lstm1   = nn.LSTM(input_size = 64, hidden_size = 512, num_layers =  1, batch_first = True)\n",
        "        \n",
        "        self.fc1 = nn.Sequential(\n",
        "            nn.Linear(512, 1),\n",
        "            nn.Sigmoid(),\n",
        "        )\n",
        "   \n",
        "        \n",
        "       \n",
        "    def forward(self, x):\n",
        "        out = self.cnn1(x)\n",
        "        #print(\"CNN1 OUT:\",  out.shape)\n",
        "        out = self.cnn2(out)\n",
        "        #print(\"CNN2 OUT:\",out.shape)\n",
        "        out = out.reshape(-1,64, 64)\n",
        "        #print(\"LSTM INPUT:\",out.shape)\n",
        "        _, (lstm_out, _) = self.lstm1(out) \n",
        "        #print(\"LSTM OUTPUT:\",lstm_out.shape)        \n",
        "        out = lstm_out.reshape(-1, 512) \n",
        "        out = self.fc1(out)\n",
        "        #print(\"OUTPUT:\",out.shape)\n",
        "        return out\n",
        "\n",
        "\n",
        "lstm_1 = LSTM_Net().to(device)\n",
        "print (lstm_1)"
      ],
      "execution_count": null,
      "outputs": [
        {
          "output_type": "stream",
          "name": "stdout",
          "text": [
            "LSTM_Net(\n",
            "  (cnn1): Sequential(\n",
            "    (0): Conv2d(1, 32, kernel_size=(3, 3), stride=(1, 1), padding=(1, 1))\n",
            "    (1): ReLU()\n",
            "    (2): MaxPool2d(kernel_size=2, stride=2, padding=0, dilation=1, ceil_mode=False)\n",
            "  )\n",
            "  (cnn2): Sequential(\n",
            "    (0): Conv2d(32, 64, kernel_size=(3, 3), stride=(1, 1), padding=(1, 1))\n",
            "    (1): ReLU()\n",
            "    (2): MaxPool2d(kernel_size=2, stride=2, padding=0, dilation=1, ceil_mode=False)\n",
            "    (3): Dropout(p=0.5, inplace=False)\n",
            "  )\n",
            "  (lstm1): LSTM(64, 512, batch_first=True)\n",
            "  (fc1): Sequential(\n",
            "    (0): Linear(in_features=512, out_features=1, bias=True)\n",
            "    (1): Sigmoid()\n",
            "  )\n",
            ")\n"
          ]
        }
      ]
    },
    {
      "cell_type": "code",
      "metadata": {
        "id": "kNt9lEN8xW-N"
      },
      "source": [
        "lstm_1.apply(weight_reset)"
      ],
      "execution_count": null,
      "outputs": []
    },
    {
      "cell_type": "code",
      "metadata": {
        "id": "6v47C098gb37",
        "colab": {
          "base_uri": "https://localhost:8080/"
        },
        "outputId": "09d33b54-4ab1-4593-da0d-b5591828c645"
      },
      "source": [
        "#Give the path of the json files here.(Different paths for melspec and MFCC)\n",
        "PATH1 = \"/content/drive/MyDrive/PROJECT/T_Khan-Snoring_Dataset/data_MFCC_PAPER.json\"\n",
        "train_loss, val_loss, test_loader = training_loop(lstm_1 , PATH1, num_epochs = 20, learning_rate = 0.0001, batch_size = 100)"
      ],
      "execution_count": null,
      "outputs": [
        {
          "output_type": "stream",
          "name": "stdout",
          "text": [
            "Data succesfully loaded!\n",
            "[INFO] training the network...\n",
            "[INFO] EPOCH: 1/20\n",
            "Train loss: 0.804776, Val loss: 1.3686\n",
            "[INFO] EPOCH: 2/20\n",
            "Train loss: 0.795728, Val loss: 1.3507\n",
            "[INFO] EPOCH: 3/20\n",
            "Train loss: 0.781913, Val loss: 1.3229\n",
            "[INFO] EPOCH: 4/20\n",
            "Train loss: 0.762959, Val loss: 1.3014\n",
            "[INFO] EPOCH: 5/20\n",
            "Train loss: 0.749277, Val loss: 1.2660\n",
            "[INFO] EPOCH: 6/20\n",
            "Train loss: 0.712442, Val loss: 1.2339\n",
            "[INFO] EPOCH: 7/20\n",
            "Train loss: 0.695239, Val loss: 1.1861\n",
            "[INFO] EPOCH: 8/20\n",
            "Train loss: 0.663595, Val loss: 1.1224\n",
            "[INFO] EPOCH: 9/20\n",
            "Train loss: 0.624334, Val loss: 1.0319\n",
            "[INFO] EPOCH: 10/20\n",
            "Train loss: 0.560527, Val loss: 0.9213\n",
            "[INFO] EPOCH: 11/20\n",
            "Train loss: 0.515873, Val loss: 0.8059\n",
            "[INFO] EPOCH: 12/20\n",
            "Train loss: 0.437705, Val loss: 0.9064\n",
            "[INFO] EPOCH: 13/20\n",
            "Train loss: 0.365963, Val loss: 0.6263\n",
            "[INFO] EPOCH: 14/20\n",
            "Train loss: 0.278450, Val loss: 0.4305\n",
            "[INFO] EPOCH: 15/20\n",
            "Train loss: 0.243652, Val loss: 0.4071\n",
            "[INFO] EPOCH: 16/20\n",
            "Train loss: 0.188922, Val loss: 0.3726\n",
            "[INFO] EPOCH: 17/20\n",
            "Train loss: 0.196026, Val loss: 0.3534\n",
            "[INFO] EPOCH: 18/20\n",
            "Train loss: 0.170233, Val loss: 0.3499\n",
            "[INFO] EPOCH: 19/20\n",
            "Train loss: 0.154524, Val loss: 0.4246\n",
            "[INFO] EPOCH: 20/20\n",
            "Train loss: 0.142667, Val loss: 0.7692\n",
            "[INFO] total time taken to train the model: 202.88s\n"
          ]
        }
      ]
    },
    {
      "cell_type": "code",
      "metadata": {
        "colab": {
          "base_uri": "https://localhost:8080/",
          "height": 295
        },
        "id": "R937_zSDMfOD",
        "outputId": "9056b297-1863-401d-ac55-499db0718755"
      },
      "source": [
        "fig, ax = plt.subplots()\n",
        "ax.plot(train_loss, label=\"train loss\")\n",
        "ax.plot(val_loss, label=\"val loss\")\n",
        "ax.set_ylabel(\"Error\")\n",
        "ax.set_xlabel(\"Epoch\")\n",
        "ax.legend(loc=\"upper left\")\n",
        "ax.set_title(\"Error eval\")\n",
        "\n",
        "plt.show()"
      ],
      "execution_count": null,
      "outputs": [
        {
          "output_type": "display_data",
          "data": {
            "image/png": "[encoded data removed]",
            "text/plain": [
              "<Figure size 432x288 with 1 Axes>"
            ]
          },
          "metadata": {
            "needs_background": "light"
          }
        }
      ]
    },
    {
      "cell_type": "code",
      "metadata": {
        "colab": {
          "base_uri": "https://localhost:8080/"
        },
        "id": "4RhJCHhrQo59",
        "outputId": "dd879b00-4690-4d78-9c95-fee4529bb9e7"
      },
      "source": [
        "# Test the model\n",
        "y_pred_list = []\n",
        "y_test_list = []\n",
        "with torch.no_grad():\n",
        "  lstm_1.eval()  # eval mode \n",
        "  correct = 0\n",
        "  total = 0\n",
        "  for images, labels in test_loader:\n",
        "    images = images.to(device)\n",
        "    labels = labels.to(device)\n",
        "    outputs = lstm_1(images)\n",
        "    predicted = torch.round(outputs)\n",
        "    y_pred_list.append(predicted.cpu().numpy())\n",
        "    y_test_list.append(labels.cpu().numpy())\n",
        "    total += labels.size(0)\n",
        "    correct += (predicted == labels).sum().item()\n",
        "\n",
        "y_pred_list = [a.squeeze().tolist() for a in y_pred_list]\n",
        "#y_test_list = [a.squeeze().tolist() for a in y_test_list]\n",
        "\n",
        "print('LSTM-Model1 Accuracy on the test SNORE SOUND SAMPLES using MFCC FEATURE: {} %'.format(100 * correct / total))\n",
        "\n",
        "# flatten prediction and true lists\n",
        "flat_pred = []\n",
        "flat_true = []\n",
        "for i in range(len(y_pred_list)):\n",
        "    for j in range(len(y_pred_list[i])):\n",
        "        flat_pred.append(y_pred_list[i][j])\n",
        "        flat_true.append(y_test_list[i][j])\n",
        "\n",
        "from sklearn.metrics import classification_report\n",
        "target_names = ['class 0', 'class 1']\n",
        "print(\"\\n\")\n",
        "print(\"\\t\\t CLASSIFICATION REPORT\\n\")\n",
        "print(classification_report(flat_true, flat_pred,target_names=target_names))"
      ],
      "execution_count": null,
      "outputs": [
        {
          "output_type": "stream",
          "name": "stdout",
          "text": [
            "LSTM-Model1 Accuracy on the test SNORE SOUND SAMPLES using MFCC FEATURE: 86.5 %\n",
            "\n",
            "\n",
            "\t\t CLASSIFICATION REPORT\n",
            "\n",
            "              precision    recall  f1-score   support\n",
            "\n",
            "     class 0       0.97      0.78      0.86       107\n",
            "     class 1       0.79      0.97      0.87        93\n",
            "\n",
            "    accuracy                           0.86       200\n",
            "   macro avg       0.88      0.87      0.86       200\n",
            "weighted avg       0.88      0.86      0.86       200\n",
            "\n"
          ]
        }
      ]
    },
    {
      "cell_type": "markdown",
      "metadata": {
        "id": "zgg8nCGtPtKo"
      },
      "source": [
        "#CNN-LSTM MODEL\n",
        "MEL SPECTROGRAM "
      ]
    },
    {
      "cell_type": "code",
      "metadata": {
        "colab": {
          "base_uri": "https://localhost:8080/"
        },
        "id": "vJ1EWCWsP3he",
        "outputId": "adc93476-858e-45e3-a5e1-e50e06b8f52c"
      },
      "source": [
        "#LSTM-CNN(two layer)\n",
        "class LSTM_Net2(nn.Module):\n",
        "    def __init__(self):\n",
        "        super(LSTM_Net2, self).__init__()\n",
        "        self.cnn1 = nn.Sequential(\n",
        "            nn.Conv2d(1, 32, kernel_size=3, stride=1,padding= 1 ),\n",
        "            nn.ReLU(),\n",
        "            nn.MaxPool2d(kernel_size=2, stride=2),\n",
        "            )\n",
        "        self.cnn2 = nn.Sequential(\n",
        "            nn.Conv2d(32, 64, kernel_size=3, stride=1,padding= 1),\n",
        "            nn.ReLU(),\n",
        "            nn.MaxPool2d(kernel_size=2, stride=2),\n",
        "            nn.Dropout(),\n",
        "            )\n",
        "        self.lstm1   = nn.LSTM(input_size = 32*11, hidden_size = 512, num_layers =  1, batch_first = True)\n",
        "        \n",
        "\n",
        "        self.fc1 = nn.Sequential(\n",
        "            nn.Linear(512, 1),\n",
        "            nn.Sigmoid(),\n",
        "        )\n",
        "   \n",
        "        \n",
        "       \n",
        "    def forward(self, x):\n",
        "        out = self.cnn1(x)\n",
        "        #print(\"CNN1 OUT:\",  out.shape)\n",
        "        out = self.cnn2(out)\n",
        "        #print(\"CNN2 OUT:\",out.shape)\n",
        "        out = out.reshape(-1,64, 32*11)\n",
        "        #print(\"LSTM INPUT:\",out.shape)\n",
        "        _, (lstm_out, _) = self.lstm1(out) \n",
        "        #print(\"LSTM OUTPUT:\",lstm_out.shape)        \n",
        "        out = lstm_out.reshape(-1, 512) \n",
        "        out = self.fc1(out)\n",
        "        #print(\"OUTPUT:\",out.shape)\n",
        "        return out\n",
        "\n",
        "\n",
        "lstm_2 = LSTM_Net2().to(device)\n",
        "print (lstm_2)"
      ],
      "execution_count": null,
      "outputs": [
        {
          "output_type": "stream",
          "name": "stdout",
          "text": [
            "LSTM_Net2(\n",
            "  (cnn1): Sequential(\n",
            "    (0): Conv2d(1, 32, kernel_size=(3, 3), stride=(1, 1), padding=(1, 1))\n",
            "    (1): ReLU()\n",
            "    (2): MaxPool2d(kernel_size=2, stride=2, padding=0, dilation=1, ceil_mode=False)\n",
            "  )\n",
            "  (cnn2): Sequential(\n",
            "    (0): Conv2d(32, 64, kernel_size=(3, 3), stride=(1, 1), padding=(1, 1))\n",
            "    (1): ReLU()\n",
            "    (2): MaxPool2d(kernel_size=2, stride=2, padding=0, dilation=1, ceil_mode=False)\n",
            "    (3): Dropout(p=0.5, inplace=False)\n",
            "  )\n",
            "  (lstm1): LSTM(352, 512, batch_first=True)\n",
            "  (fc1): Sequential(\n",
            "    (0): Linear(in_features=512, out_features=1, bias=True)\n",
            "    (1): Sigmoid()\n",
            "  )\n",
            ")\n"
          ]
        }
      ]
    },
    {
      "cell_type": "code",
      "metadata": {
        "colab": {
          "base_uri": "https://localhost:8080/"
        },
        "id": "PPpHxDPUD9Ji",
        "outputId": "37aa9f1a-e8a5-4290-dee3-95f9b63de441"
      },
      "source": [
        "#Give the path of the json files here.(Different paths for melspec and MFCC)\n",
        "PATH1 = \"/content/drive/MyDrive/PROJECT/T_Khan-Snoring_Dataset/data_MEL_SPEC_final.json\"\n",
        "train_loss, val_loss, test_loader = training_loop(lstm_2 , PATH1, num_epochs = 20, learning_rate = 0.0001, batch_size = 100)"
      ],
      "execution_count": null,
      "outputs": [
        {
          "output_type": "stream",
          "name": "stdout",
          "text": [
            "Data succesfully loaded!\n",
            "[INFO] training the network...\n",
            "[INFO] EPOCH: 1/20\n",
            "Train loss: 0.288200, Val loss: 0.7862\n",
            "[INFO] EPOCH: 2/20\n",
            "Train loss: 0.276823, Val loss: 0.8141\n",
            "[INFO] EPOCH: 3/20\n",
            "Train loss: 0.288313, Val loss: 0.3556\n",
            "[INFO] EPOCH: 4/20\n",
            "Train loss: 0.214001, Val loss: 0.5493\n",
            "[INFO] EPOCH: 5/20\n",
            "Train loss: 0.204437, Val loss: 0.4234\n",
            "[INFO] EPOCH: 6/20\n",
            "Train loss: 0.220760, Val loss: 0.5725\n",
            "[INFO] EPOCH: 7/20\n",
            "Train loss: 0.169148, Val loss: 0.2839\n",
            "[INFO] EPOCH: 8/20\n",
            "Train loss: 0.206125, Val loss: 0.3913\n",
            "[INFO] EPOCH: 9/20\n",
            "Train loss: 0.163270, Val loss: 0.4931\n",
            "[INFO] EPOCH: 10/20\n",
            "Train loss: 0.161616, Val loss: 0.2934\n",
            "[INFO] EPOCH: 11/20\n",
            "Train loss: 0.182047, Val loss: 0.2515\n",
            "[INFO] EPOCH: 12/20\n",
            "Train loss: 0.169012, Val loss: 0.2749\n",
            "[INFO] EPOCH: 13/20\n",
            "Train loss: 0.142380, Val loss: 0.4984\n",
            "[INFO] EPOCH: 14/20\n",
            "Train loss: 0.137823, Val loss: 0.2930\n",
            "[INFO] EPOCH: 15/20\n",
            "Train loss: 0.112330, Val loss: 0.2485\n",
            "[INFO] EPOCH: 16/20\n",
            "Train loss: 0.144054, Val loss: 0.3126\n",
            "[INFO] EPOCH: 17/20\n",
            "Train loss: 0.116774, Val loss: 0.2619\n",
            "[INFO] EPOCH: 18/20\n",
            "Train loss: 0.094230, Val loss: 0.2443\n",
            "[INFO] EPOCH: 19/20\n",
            "Train loss: 0.090725, Val loss: 0.5724\n",
            "[INFO] EPOCH: 20/20\n",
            "Train loss: 0.142926, Val loss: 0.4945\n",
            "[INFO] total time taken to train the model: 340.75s\n"
          ]
        }
      ]
    },
    {
      "cell_type": "code",
      "metadata": {
        "colab": {
          "base_uri": "https://localhost:8080/",
          "height": 295
        },
        "id": "GTEYrFZ1P3rf",
        "outputId": "aa209da5-bc23-47d7-a14c-f72bfc3afe1b"
      },
      "source": [
        "fig, ax = plt.subplots()\n",
        "ax.plot(train_loss, label=\"train loss\")\n",
        "ax.plot(val_loss, label=\"val loss\")\n",
        "ax.set_ylabel(\"Error\")\n",
        "ax.set_xlabel(\"Epoch\")\n",
        "ax.legend(loc=\"upper left\")\n",
        "ax.set_title(\"Error eval\")\n",
        "\n",
        "plt.show()"
      ],
      "execution_count": null,
      "outputs": [
        {
          "output_type": "display_data",
          "data": {
            "image/png": "[encoded data removed]",
            "text/plain": [
              "<Figure size 432x288 with 1 Axes>"
            ]
          },
          "metadata": {
            "needs_background": "light"
          }
        }
      ]
    },
    {
      "cell_type": "code",
      "metadata": {
        "colab": {
          "base_uri": "https://localhost:8080/"
        },
        "id": "TzO0hyrjZ43U",
        "outputId": "96261b8c-5500-4cf2-fe2d-f32af578c5dc"
      },
      "source": [
        "# Test the model\n",
        "y_pred_list = []\n",
        "y_test_list = []\n",
        "with torch.no_grad():\n",
        "  lstm_2.eval()  # eval mode \n",
        "  correct = 0\n",
        "  total = 0\n",
        "  for images, labels in test_loader:\n",
        "    images = images.to(device)\n",
        "    labels = labels.to(device)\n",
        "    outputs = lstm_2(images)\n",
        "    predicted = torch.round(outputs)\n",
        "    y_pred_list.append(predicted.cpu().numpy())\n",
        "    y_test_list.append(labels.cpu().numpy())\n",
        "    total += labels.size(0)\n",
        "    correct += (predicted == labels).sum().item()\n",
        "\n",
        "\n",
        "print('LSTM-Model2 Accuracy on the test SNORE SOUND SAMPLES using MEL SPECTROGRAM FEATURE: {} %'.format(100 * correct / total))\n",
        "\n",
        "# flatten prediction and true lists\n",
        "flat_pred = []\n",
        "flat_true = []\n",
        "for i in range(len(y_pred_list)):\n",
        "    for j in range(len(y_pred_list[i])):\n",
        "        flat_pred.append(y_pred_list[i][j])\n",
        "        flat_true.append(y_test_list[i][j])\n",
        "\n",
        "from sklearn.metrics import classification_report\n",
        "target_names = ['class 0', 'class 1']\n",
        "print(\"\\n\")\n",
        "print(\"\\t\\t CLASSIFICATION REPORT\\n\")\n",
        "print(classification_report(flat_true, flat_pred,target_names=target_names))"
      ],
      "execution_count": null,
      "outputs": [
        {
          "output_type": "stream",
          "name": "stdout",
          "text": [
            "LSTM-Model2 Accuracy on the test SNORE SOUND SAMPLES using MEL SPECTROGRAM FEATURE: 91.5 %\n",
            "\n",
            "\n",
            "\t\t CLASSIFICATION REPORT\n",
            "\n",
            "              precision    recall  f1-score   support\n",
            "\n",
            "     class 0       0.86      1.00      0.92       101\n",
            "     class 1       1.00      0.83      0.91        99\n",
            "\n",
            "    accuracy                           0.92       200\n",
            "   macro avg       0.93      0.91      0.91       200\n",
            "weighted avg       0.93      0.92      0.91       200\n",
            "\n"
          ]
        }
      ]
    }
  ]
}